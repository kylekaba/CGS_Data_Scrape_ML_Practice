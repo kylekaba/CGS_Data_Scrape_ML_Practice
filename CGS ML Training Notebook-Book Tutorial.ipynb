{
 "cells": [
  {
   "cell_type": "markdown",
   "id": "904be83c",
   "metadata": {},
   "source": [
    "This notebook features the training of machine learning algorithms to learn about properties of barred and normal galaxies, data taken from the Carnegie Irvine Galaxy Survey."
   ]
  },
  {
   "cell_type": "code",
   "execution_count": 2,
   "id": "898bb6a4",
   "metadata": {},
   "outputs": [],
   "source": [
    "import os\n",
    "import numpy as np\n",
    "import pandas as pd\n",
    "import matplotlib.pyplot as plt\n",
    "import seaborn as sns\n",
    "from sklearn.model_selection import train_test_split\n",
    "from sklearn.metrics import classification_report, confusion_matrix, precision_recall_curve\n",
    "from tensorflow.keras.preprocessing.image import ImageDataGenerator, load_img, img_to_array\n",
    "from tensorflow.keras.models import Sequential\n",
    "from tensorflow.keras.layers import Conv2D, MaxPooling2D, Flatten, Dense, Dropout\n",
    "from tensorflow.keras.optimizers import Adam\n",
    "from tensorflow.keras.callbacks import EarlyStopping"
   ]
  },
  {
   "cell_type": "markdown",
   "id": "2d86a26f",
   "metadata": {},
   "source": [
    "First, I import and rescale the images to 256 x 256 to speed up the training process."
   ]
  },
  {
   "cell_type": "code",
   "execution_count": 74,
   "id": "f0b59f6d",
   "metadata": {},
   "outputs": [],
   "source": [
    "image_width, image_height = 256, 256\n",
    "\n",
    "def load_images(directory, label):\n",
    "    images = []\n",
    "    labels = []\n",
    "    for file in os.listdir(directory):\n",
    "        if file.endswith('.jpg'):\n",
    "            img = load_img(os.path.join(directory, file), target_size=(image_width, image_height))\n",
    "            img_array = img_to_array(img) / 255.0  # Normalize pixel values\n",
    "            images.append(img_array)\n",
    "            labels.append(label)\n",
    "    return images, labels\n",
    "\n",
    "barred_spirals, y_barred = load_images('Barred_Spirals', 0)\n",
    "normal_spirals, y_normal = load_images('Normal_Spirals', 1)\n",
    "\n",
    "X = np.array(barred_spirals + normal_spirals)\n",
    "y = np.array(y_barred + y_normal)"
   ]
  },
  {
   "cell_type": "markdown",
   "id": "7fedfcad",
   "metadata": {},
   "source": [
    "Calculate the amount of barred spirals and normal spirals in the dataset."
   ]
  },
  {
   "cell_type": "code",
   "execution_count": 75,
   "id": "096fe75b",
   "metadata": {},
   "outputs": [
    {
     "data": {
      "text/plain": [
       "(104, 201)"
      ]
     },
     "execution_count": 75,
     "metadata": {},
     "output_type": "execute_result"
    }
   ],
   "source": [
    "len(barred_spirals),len(normal_spirals)"
   ]
  },
  {
   "cell_type": "code",
   "execution_count": 76,
   "id": "f424a6a2",
   "metadata": {},
   "outputs": [
    {
     "data": {
      "text/plain": [
       "(305, 256, 256, 3)"
      ]
     },
     "execution_count": 76,
     "metadata": {},
     "output_type": "execute_result"
    }
   ],
   "source": [
    "X.shape # 104 + 201 = 305 total images of dimensions 256 x 256"
   ]
  },
  {
   "cell_type": "markdown",
   "id": "a8e550f7",
   "metadata": {},
   "source": [
    "Because the data comes in the form of .jpg images, I need to preprocess the data so that it is only 2 dimensional and that the pixel values are converted between a range of 0 and 1."
   ]
  },
  {
   "cell_type": "markdown",
   "id": "e87c9b17",
   "metadata": {},
   "source": [
    "Now, I split the data into training and testing sets."
   ]
  },
  {
   "cell_type": "code",
   "execution_count": 77,
   "id": "d8bde802",
   "metadata": {},
   "outputs": [],
   "source": [
    "# Preprocess data\n",
    "gray_images = []\n",
    "# Make all the images in the dataset gray.\n",
    "for i in range(0,305):\n",
    "    gray_image = np.mean(X[i],axis=2)\n",
    "    gray_images.append(gray_image)\n"
   ]
  },
  {
   "cell_type": "code",
   "execution_count": 81,
   "id": "462c91a3",
   "metadata": {},
   "outputs": [
    {
     "data": {
      "text/plain": [
       "(305, 256, 256)"
      ]
     },
     "execution_count": 81,
     "metadata": {},
     "output_type": "execute_result"
    }
   ],
   "source": [
    "X = np.array(gray_images)\n",
    "X.shape"
   ]
  },
  {
   "cell_type": "code",
   "execution_count": 84,
   "id": "0e36f5f4",
   "metadata": {},
   "outputs": [
    {
     "data": {
      "text/plain": [
       "(305, 65536)"
      ]
     },
     "execution_count": 84,
     "metadata": {},
     "output_type": "execute_result"
    }
   ],
   "source": [
    "# Flatten the array along the 1st and 2nd axes to just have the pixel intensity values \n",
    "X_train = X.reshape(305,-1)\n",
    "X_train.shape"
   ]
  },
  {
   "cell_type": "code",
   "execution_count": 85,
   "id": "8fb0b81a",
   "metadata": {},
   "outputs": [],
   "source": [
    "X_train, X_test, y_train, y_test = train_test_split(X, y, test_size=0.2, random_state=42)"
   ]
  },
  {
   "cell_type": "code",
   "execution_count": 86,
   "id": "b17dddcb",
   "metadata": {},
   "outputs": [
    {
     "data": {
      "text/plain": [
       "(244, 65536)"
      ]
     },
     "execution_count": 86,
     "metadata": {},
     "output_type": "execute_result"
    }
   ],
   "source": [
    "X_train.shape"
   ]
  },
  {
   "cell_type": "markdown",
   "id": "b42463e6",
   "metadata": {},
   "source": [
    "I will start with a *stoachastic gradient descent* classifier within Scikit-Learn's SGDCClassifier class."
   ]
  },
  {
   "cell_type": "code",
   "execution_count": 87,
   "id": "400b41c8",
   "metadata": {},
   "outputs": [
    {
     "data": {
      "text/html": [
       "<style>#sk-container-id-1 {color: black;background-color: white;}#sk-container-id-1 pre{padding: 0;}#sk-container-id-1 div.sk-toggleable {background-color: white;}#sk-container-id-1 label.sk-toggleable__label {cursor: pointer;display: block;width: 100%;margin-bottom: 0;padding: 0.3em;box-sizing: border-box;text-align: center;}#sk-container-id-1 label.sk-toggleable__label-arrow:before {content: \"▸\";float: left;margin-right: 0.25em;color: #696969;}#sk-container-id-1 label.sk-toggleable__label-arrow:hover:before {color: black;}#sk-container-id-1 div.sk-estimator:hover label.sk-toggleable__label-arrow:before {color: black;}#sk-container-id-1 div.sk-toggleable__content {max-height: 0;max-width: 0;overflow: hidden;text-align: left;background-color: #f0f8ff;}#sk-container-id-1 div.sk-toggleable__content pre {margin: 0.2em;color: black;border-radius: 0.25em;background-color: #f0f8ff;}#sk-container-id-1 input.sk-toggleable__control:checked~div.sk-toggleable__content {max-height: 200px;max-width: 100%;overflow: auto;}#sk-container-id-1 input.sk-toggleable__control:checked~label.sk-toggleable__label-arrow:before {content: \"▾\";}#sk-container-id-1 div.sk-estimator input.sk-toggleable__control:checked~label.sk-toggleable__label {background-color: #d4ebff;}#sk-container-id-1 div.sk-label input.sk-toggleable__control:checked~label.sk-toggleable__label {background-color: #d4ebff;}#sk-container-id-1 input.sk-hidden--visually {border: 0;clip: rect(1px 1px 1px 1px);clip: rect(1px, 1px, 1px, 1px);height: 1px;margin: -1px;overflow: hidden;padding: 0;position: absolute;width: 1px;}#sk-container-id-1 div.sk-estimator {font-family: monospace;background-color: #f0f8ff;border: 1px dotted black;border-radius: 0.25em;box-sizing: border-box;margin-bottom: 0.5em;}#sk-container-id-1 div.sk-estimator:hover {background-color: #d4ebff;}#sk-container-id-1 div.sk-parallel-item::after {content: \"\";width: 100%;border-bottom: 1px solid gray;flex-grow: 1;}#sk-container-id-1 div.sk-label:hover label.sk-toggleable__label {background-color: #d4ebff;}#sk-container-id-1 div.sk-serial::before {content: \"\";position: absolute;border-left: 1px solid gray;box-sizing: border-box;top: 0;bottom: 0;left: 50%;z-index: 0;}#sk-container-id-1 div.sk-serial {display: flex;flex-direction: column;align-items: center;background-color: white;padding-right: 0.2em;padding-left: 0.2em;position: relative;}#sk-container-id-1 div.sk-item {position: relative;z-index: 1;}#sk-container-id-1 div.sk-parallel {display: flex;align-items: stretch;justify-content: center;background-color: white;position: relative;}#sk-container-id-1 div.sk-item::before, #sk-container-id-1 div.sk-parallel-item::before {content: \"\";position: absolute;border-left: 1px solid gray;box-sizing: border-box;top: 0;bottom: 0;left: 50%;z-index: -1;}#sk-container-id-1 div.sk-parallel-item {display: flex;flex-direction: column;z-index: 1;position: relative;background-color: white;}#sk-container-id-1 div.sk-parallel-item:first-child::after {align-self: flex-end;width: 50%;}#sk-container-id-1 div.sk-parallel-item:last-child::after {align-self: flex-start;width: 50%;}#sk-container-id-1 div.sk-parallel-item:only-child::after {width: 0;}#sk-container-id-1 div.sk-dashed-wrapped {border: 1px dashed gray;margin: 0 0.4em 0.5em 0.4em;box-sizing: border-box;padding-bottom: 0.4em;background-color: white;}#sk-container-id-1 div.sk-label label {font-family: monospace;font-weight: bold;display: inline-block;line-height: 1.2em;}#sk-container-id-1 div.sk-label-container {text-align: center;}#sk-container-id-1 div.sk-container {/* jupyter's `normalize.less` sets `[hidden] { display: none; }` but bootstrap.min.css set `[hidden] { display: none !important; }` so we also need the `!important` here to be able to override the default hidden behavior on the sphinx rendered scikit-learn.org. See: https://github.com/scikit-learn/scikit-learn/issues/21755 */display: inline-block !important;position: relative;}#sk-container-id-1 div.sk-text-repr-fallback {display: none;}</style><div id=\"sk-container-id-1\" class=\"sk-top-container\"><div class=\"sk-text-repr-fallback\"><pre>SGDClassifier(random_state=42)</pre><b>In a Jupyter environment, please rerun this cell to show the HTML representation or trust the notebook. <br />On GitHub, the HTML representation is unable to render, please try loading this page with nbviewer.org.</b></div><div class=\"sk-container\" hidden><div class=\"sk-item\"><div class=\"sk-estimator sk-toggleable\"><input class=\"sk-toggleable__control sk-hidden--visually\" id=\"sk-estimator-id-1\" type=\"checkbox\" checked><label for=\"sk-estimator-id-1\" class=\"sk-toggleable__label sk-toggleable__label-arrow\">SGDClassifier</label><div class=\"sk-toggleable__content\"><pre>SGDClassifier(random_state=42)</pre></div></div></div></div></div>"
      ],
      "text/plain": [
       "SGDClassifier(random_state=42)"
      ]
     },
     "execution_count": 87,
     "metadata": {},
     "output_type": "execute_result"
    }
   ],
   "source": [
    "from sklearn.linear_model import SGDClassifier\n",
    "\n",
    "sgd_clf = SGDClassifier(random_state = 42)\n",
    "sgd_clf.fit(X_train,y_train)"
   ]
  },
  {
   "cell_type": "markdown",
   "id": "e417c6cf",
   "metadata": {},
   "source": [
    "Now I use this classifier to detect the first image in the stack. "
   ]
  },
  {
   "cell_type": "code",
   "execution_count": 97,
   "id": "d020ce89",
   "metadata": {},
   "outputs": [
    {
     "data": {
      "text/plain": [
       "0"
      ]
     },
     "execution_count": 97,
     "metadata": {},
     "output_type": "execute_result"
    }
   ],
   "source": [
    "y[5] # Barred Spiral "
   ]
  },
  {
   "cell_type": "code",
   "execution_count": 100,
   "id": "dd5767ab",
   "metadata": {},
   "outputs": [
    {
     "data": {
      "text/plain": [
       "array([0])"
      ]
     },
     "execution_count": 100,
     "metadata": {},
     "output_type": "execute_result"
    }
   ],
   "source": [
    "sgd_clf.predict([X[0]])"
   ]
  },
  {
   "cell_type": "markdown",
   "id": "b5aeceaf",
   "metadata": {},
   "source": [
    "The array guesses that this image represents a barred spiral, which does seem to be correct! "
   ]
  },
  {
   "cell_type": "markdown",
   "id": "c4267163",
   "metadata": {},
   "source": [
    "I now will perform cross-validation of the dataset. I use the cross_val_score() function to evaluate the SGDCClassifier model using $k$-fold cross-validation with $k = 3$ folds. This will split the training set into $k$-folds, then train the model $k$ times, holding out a different fold each time for validation."
   ]
  },
  {
   "cell_type": "code",
   "execution_count": 103,
   "id": "0524544f",
   "metadata": {},
   "outputs": [
    {
     "data": {
      "text/plain": [
       "array([0.53658537, 0.62962963, 0.62962963])"
      ]
     },
     "execution_count": 103,
     "metadata": {},
     "output_type": "execute_result"
    }
   ],
   "source": [
    "from sklearn.model_selection import cross_val_score\n",
    "cross_val_score(sgd_clf,X_train,y_train,cv=3,scoring=\"accuracy\")"
   ]
  },
  {
   "cell_type": "markdown",
   "id": "c539c72f",
   "metadata": {},
   "source": [
    "This array of accuracy ratios suggests that the classifier gets approximately 54% of its predictions correct in the 1st fold and about 63% correct in the 2nd and 3rd folds. Next, I will use a dummy classifier that just classifies every single image in the most frequent class, which in our case is the Normal Spiral Galaxies."
   ]
  },
  {
   "cell_type": "code",
   "execution_count": 106,
   "id": "249e706b",
   "metadata": {},
   "outputs": [
    {
     "name": "stdout",
     "output_type": "stream",
     "text": [
      "True\n"
     ]
    }
   ],
   "source": [
    "from sklearn.dummy import DummyClassifier\n",
    "dummy_clf = DummyClassifier()\n",
    "dummy_clf.fit(X_train,y_train)\n",
    "print(any(dummy_clf.predict(X_train)))"
   ]
  },
  {
   "cell_type": "markdown",
   "id": "dc0ff100",
   "metadata": {},
   "source": [
    "Now, we look at the cross_val score and compare it with the performance in the cross-validation of the other dataset."
   ]
  },
  {
   "cell_type": "code",
   "execution_count": 107,
   "id": "b38e7b46",
   "metadata": {},
   "outputs": [
    {
     "data": {
      "text/plain": [
       "array([0.65853659, 0.66666667, 0.65432099])"
      ]
     },
     "execution_count": 107,
     "metadata": {},
     "output_type": "execute_result"
    }
   ],
   "source": [
    "cross_val_score(dummy_clf,X_train,y_train,cv=3,scoring=\"accuracy\")"
   ]
  },
  {
   "cell_type": "markdown",
   "id": "b8a5e04f",
   "metadata": {},
   "source": [
    "Wow, it does a better job than before! But there seems to be some preference to the number of 2/3? One hunch is that 2/3s of the pictures in the dataset are of Normal Spiral Galaxies and only 1/3 are barred spiral galaxies, so that if you guess that EVERY image is a Normal Spiral Galaxy, you will be right 2/3s of the time."
   ]
  },
  {
   "cell_type": "code",
   "execution_count": 109,
   "id": "c9ee3c6d",
   "metadata": {},
   "outputs": [
    {
     "data": {
      "text/plain": [
       "0.659016393442623"
      ]
     },
     "execution_count": 109,
     "metadata": {},
     "output_type": "execute_result"
    }
   ],
   "source": [
    "len(normal_spirals)/(len(barred_spirals) + len(normal_spirals))"
   ]
  },
  {
   "cell_type": "markdown",
   "id": "dd588b7e",
   "metadata": {},
   "source": [
    "This is a good example of why accuracy should not be the preferred performance metric for classifiers, especially when it comes to **skewed datasets**."
   ]
  },
  {
   "cell_type": "markdown",
   "id": "f9e4c250",
   "metadata": {},
   "source": [
    "I will now compute the **confusion matrix** which counts the number of times instances of class A are classified as class B for all A/B pairs. In my example, this just counts the amount of times normal spirals are confused for barred spirals and vice versa."
   ]
  },
  {
   "cell_type": "code",
   "execution_count": 110,
   "id": "ea61843e",
   "metadata": {},
   "outputs": [],
   "source": [
    "from sklearn.model_selection import cross_val_predict\n",
    "y_train_pred = cross_val_predict(sgd_clf,X_train,y_train,cv=3)"
   ]
  },
  {
   "cell_type": "markdown",
   "id": "a4004e56",
   "metadata": {},
   "source": [
    "This function also performs $k$-fold cross-validation, but instead of returning the evaluation scores, it returns hte predictions made on each test fold. This means that I can get out of sample predictions for each instance in the training set. This means that the model is making predictions on data it never saw during the training phase. "
   ]
  },
  {
   "cell_type": "code",
   "execution_count": 111,
   "id": "7d65e0f1",
   "metadata": {},
   "outputs": [
    {
     "data": {
      "text/plain": [
       "array([[ 24,  59],\n",
       "       [ 39, 122]])"
      ]
     },
     "execution_count": 111,
     "metadata": {},
     "output_type": "execute_result"
    }
   ],
   "source": [
    "# get the confusion matrix\n",
    "from sklearn.metrics import confusion_matrix\n",
    "cm = confusion_matrix(y_train,y_train_pred)\n",
    "cm"
   ]
  },
  {
   "cell_type": "markdown",
   "id": "f54e861b",
   "metadata": {},
   "source": [
    "Each row in the confusion matrix represents an real class while each column represents a predicted class. Top left corner represents true negatives. Top right corner represents false positive (type I error). Bottom left represents false negatives (type II errors) and bottom right represents true positives."
   ]
  },
  {
   "cell_type": "code",
   "execution_count": 112,
   "id": "95484a28",
   "metadata": {},
   "outputs": [
    {
     "data": {
      "text/plain": [
       "array([[ 83,   0],\n",
       "       [  0, 161]])"
      ]
     },
     "execution_count": 112,
     "metadata": {},
     "output_type": "execute_result"
    }
   ],
   "source": [
    "y_train_perfect_predictions = y_train # pretend we reached perfection\n",
    "confusion_matrix(y_train,y_train_perfect_predictions)"
   ]
  },
  {
   "cell_type": "markdown",
   "id": "9bf1580e",
   "metadata": {},
   "source": [
    "### Next we look at precision and recall metrics to evaluate model performance."
   ]
  },
  {
   "cell_type": "code",
   "execution_count": 113,
   "id": "875b5c15",
   "metadata": {},
   "outputs": [
    {
     "data": {
      "text/plain": [
       "0.6740331491712708"
      ]
     },
     "execution_count": 113,
     "metadata": {},
     "output_type": "execute_result"
    }
   ],
   "source": [
    "from sklearn.metrics import precision_score, recall_score\n",
    "precision_score(y_train,y_train_pred) #"
   ]
  },
  {
   "cell_type": "code",
   "execution_count": 115,
   "id": "e57e2602",
   "metadata": {},
   "outputs": [
    {
     "data": {
      "text/plain": [
       "0.6740331491712708"
      ]
     },
     "execution_count": 115,
     "metadata": {},
     "output_type": "execute_result"
    }
   ],
   "source": [
    "122/(122+59)"
   ]
  },
  {
   "cell_type": "code",
   "execution_count": 116,
   "id": "3468e432",
   "metadata": {},
   "outputs": [
    {
     "data": {
      "text/plain": [
       "0.7577639751552795"
      ]
     },
     "execution_count": 116,
     "metadata": {},
     "output_type": "execute_result"
    }
   ],
   "source": [
    "from sklearn.metrics import precision_score, recall_score\n",
    "recall_score(y_train,y_train_pred) #"
   ]
  },
  {
   "cell_type": "code",
   "execution_count": 117,
   "id": "e64a9b25",
   "metadata": {},
   "outputs": [
    {
     "data": {
      "text/plain": [
       "0.7134502923976608"
      ]
     },
     "execution_count": 117,
     "metadata": {},
     "output_type": "execute_result"
    }
   ],
   "source": [
    "from sklearn.metrics import f1_score\n",
    "f1_score(y_train,y_train_pred)"
   ]
  },
  {
   "cell_type": "code",
   "execution_count": null,
   "id": "c1ab872a",
   "metadata": {},
   "outputs": [],
   "source": []
  }
 ],
 "metadata": {
  "kernelspec": {
   "display_name": "Python 3.10 (tensorflow)",
   "language": "python",
   "name": "tensorflow"
  },
  "language_info": {
   "codemirror_mode": {
    "name": "ipython",
    "version": 3
   },
   "file_extension": ".py",
   "mimetype": "text/x-python",
   "name": "python",
   "nbconvert_exporter": "python",
   "pygments_lexer": "ipython3",
   "version": "3.10.10"
  }
 },
 "nbformat": 4,
 "nbformat_minor": 5
}
